{
 "cells": [
  {
   "cell_type": "code",
   "execution_count": 10,
   "metadata": {
    "collapsed": true
   },
   "outputs": [
    {
     "data": {
      "text/plain": [
       "array([1, 2, 3])"
      ]
     },
     "execution_count": 10,
     "metadata": {},
     "output_type": "execute_result"
    }
   ],
   "source": [
    "import numpy as np\n",
    "x = np.array([3, 1, 2])\n",
    "np.argsort(x)   # 排序后的原下标\n",
    "x[np.argsort(x)] # 按序访问"
   ]
  },
  {
   "cell_type": "code",
   "execution_count": 9,
   "metadata": {},
   "outputs": [
    {
     "data": {
      "text/plain": [
       "array([1, 2, 3])"
      ]
     },
     "execution_count": 9,
     "metadata": {},
     "output_type": "execute_result"
    }
   ],
   "source": [
    "x.sort()\n",
    "x"
   ]
  },
  {
   "cell_type": "code",
   "execution_count": 4,
   "metadata": {},
   "outputs": [
    {
     "data": {
      "text/plain": [
       "True"
      ]
     },
     "execution_count": 4,
     "metadata": {},
     "output_type": "execute_result"
    }
   ],
   "source": [
    "import numpy as np\n",
    "np.any([0,1,2,3,4])"
   ]
  },
  {
   "cell_type": "code",
   "execution_count": 6,
   "metadata": {},
   "outputs": [
    {
     "data": {
      "text/plain": [
       "DatetimeIndex(['2013-01-01', '2013-01-02', '2013-01-03', '2013-01-04',\n               '2013-01-05', '2013-01-06', '2013-01-07', '2013-01-08',\n               '2013-01-09', '2013-01-10',\n               ...\n               '2013-12-22', '2013-12-23', '2013-12-24', '2013-12-25',\n               '2013-12-26', '2013-12-27', '2013-12-28', '2013-12-29',\n               '2013-12-30', '2013-12-31'],\n              dtype='datetime64[ns]', length=365, freq='D')"
      ]
     },
     "execution_count": 6,
     "metadata": {},
     "output_type": "execute_result"
    }
   ],
   "source": [
    "import pandas as pd\n",
    "pd.date_range(start='20130101', end='20131231', freq='D')"
   ]
  },
  {
   "cell_type": "code",
   "execution_count": 8,
   "metadata": {},
   "outputs": [
    {
     "data": {
      "text/html": [
       "<div>\n",
       "<table border=\"1\" class=\"dataframe\">\n",
       "  <thead>\n",
       "    <tr style=\"text-align: right;\">\n",
       "      <th></th>\n",
       "      <th>A</th>\n",
       "      <th>B</th>\n",
       "      <th>C</th>\n",
       "      <th>D</th>\n",
       "    </tr>\n",
       "  </thead>\n",
       "  <tbody>\n",
       "    <tr>\n",
       "      <th>2013-01-31</th>\n",
       "      <td>-1.390310</td>\n",
       "      <td>0.946646</td>\n",
       "      <td>0.430275</td>\n",
       "      <td>0.424945</td>\n",
       "    </tr>\n",
       "    <tr>\n",
       "      <th>2013-02-28</th>\n",
       "      <td>-0.720821</td>\n",
       "      <td>-1.335997</td>\n",
       "      <td>-0.315300</td>\n",
       "      <td>-0.007610</td>\n",
       "    </tr>\n",
       "    <tr>\n",
       "      <th>2013-03-31</th>\n",
       "      <td>-1.142531</td>\n",
       "      <td>0.431691</td>\n",
       "      <td>-0.714617</td>\n",
       "      <td>0.847349</td>\n",
       "    </tr>\n",
       "    <tr>\n",
       "      <th>2013-04-30</th>\n",
       "      <td>-1.834321</td>\n",
       "      <td>-1.003208</td>\n",
       "      <td>-0.216495</td>\n",
       "      <td>-2.330971</td>\n",
       "    </tr>\n",
       "    <tr>\n",
       "      <th>2013-05-31</th>\n",
       "      <td>0.008632</td>\n",
       "      <td>-0.998616</td>\n",
       "      <td>0.777382</td>\n",
       "      <td>0.235515</td>\n",
       "    </tr>\n",
       "    <tr>\n",
       "      <th>2013-06-30</th>\n",
       "      <td>0.509443</td>\n",
       "      <td>-1.681740</td>\n",
       "      <td>1.226206</td>\n",
       "      <td>0.258768</td>\n",
       "    </tr>\n",
       "    <tr>\n",
       "      <th>2013-07-31</th>\n",
       "      <td>0.071503</td>\n",
       "      <td>0.400385</td>\n",
       "      <td>-2.436591</td>\n",
       "      <td>0.402176</td>\n",
       "    </tr>\n",
       "    <tr>\n",
       "      <th>2013-08-31</th>\n",
       "      <td>-0.747770</td>\n",
       "      <td>0.794082</td>\n",
       "      <td>-0.501500</td>\n",
       "      <td>0.532863</td>\n",
       "    </tr>\n",
       "    <tr>\n",
       "      <th>2013-09-30</th>\n",
       "      <td>1.234665</td>\n",
       "      <td>0.083688</td>\n",
       "      <td>-0.909180</td>\n",
       "      <td>0.599805</td>\n",
       "    </tr>\n",
       "    <tr>\n",
       "      <th>2013-10-31</th>\n",
       "      <td>-0.305090</td>\n",
       "      <td>0.241086</td>\n",
       "      <td>0.241136</td>\n",
       "      <td>0.409292</td>\n",
       "    </tr>\n",
       "    <tr>\n",
       "      <th>2013-11-30</th>\n",
       "      <td>0.096202</td>\n",
       "      <td>-1.384769</td>\n",
       "      <td>1.931434</td>\n",
       "      <td>-0.098136</td>\n",
       "    </tr>\n",
       "    <tr>\n",
       "      <th>2013-12-31</th>\n",
       "      <td>0.721423</td>\n",
       "      <td>0.633948</td>\n",
       "      <td>0.321793</td>\n",
       "      <td>-1.360542</td>\n",
       "    </tr>\n",
       "  </tbody>\n",
       "</table>\n",
       "</div>"
      ],
      "text/plain": [
       "<div>\n",
       "<table border=\"1\" class=\"dataframe\">\n",
       "  <thead>\n",
       "    <tr style=\"text-align: right;\">\n",
       "      <th></th>\n",
       "      <th>A</th>\n",
       "      <th>B</th>\n",
       "      <th>C</th>\n",
       "      <th>D</th>\n",
       "    </tr>\n",
       "  </thead>\n",
       "  <tbody>\n",
       "    <tr>\n",
       "      <th>2013-01-31</th>\n",
       "      <td>-1.390310</td>\n",
       "      <td>0.946646</td>\n",
       "      <td>0.430275</td>\n",
       "      <td>0.424945</td>\n",
       "    </tr>\n",
       "    <tr>\n",
       "      <th>2013-02-28</th>\n",
       "      <td>-0.720821</td>\n",
       "      <td>-1.335997</td>\n",
       "      <td>-0.315300</td>\n",
       "      <td>-0.007610</td>\n",
       "    </tr>\n",
       "    <tr>\n",
       "      <th>2013-03-31</th>\n",
       "      <td>-1.142531</td>\n",
       "      <td>0.431691</td>\n",
       "      <td>-0.714617</td>\n",
       "      <td>0.847349</td>\n",
       "    </tr>\n",
       "    <tr>\n",
       "      <th>2013-04-30</th>\n",
       "      <td>-1.834321</td>\n",
       "      <td>-1.003208</td>\n",
       "      <td>-0.216495</td>\n",
       "      <td>-2.330971</td>\n",
       "    </tr>\n",
       "    <tr>\n",
       "      <th>2013-05-31</th>\n",
       "      <td>0.008632</td>\n",
       "      <td>-0.998616</td>\n",
       "      <td>0.777382</td>\n",
       "      <td>0.235515</td>\n",
       "    </tr>\n",
       "    <tr>\n",
       "      <th>2013-06-30</th>\n",
       "      <td>0.509443</td>\n",
       "      <td>-1.681740</td>\n",
       "      <td>1.226206</td>\n",
       "      <td>0.258768</td>\n",
       "    </tr>\n",
       "    <tr>\n",
       "      <th>2013-07-31</th>\n",
       "      <td>0.071503</td>\n",
       "      <td>0.400385</td>\n",
       "      <td>-2.436591</td>\n",
       "      <td>0.402176</td>\n",
       "    </tr>\n",
       "    <tr>\n",
       "      <th>2013-08-31</th>\n",
       "      <td>-0.747770</td>\n",
       "      <td>0.794082</td>\n",
       "      <td>-0.501500</td>\n",
       "      <td>0.532863</td>\n",
       "    </tr>\n",
       "    <tr>\n",
       "      <th>2013-09-30</th>\n",
       "      <td>1.234665</td>\n",
       "      <td>0.083688</td>\n",
       "      <td>-0.909180</td>\n",
       "      <td>0.599805</td>\n",
       "    </tr>\n",
       "    <tr>\n",
       "      <th>2013-10-31</th>\n",
       "      <td>-0.305090</td>\n",
       "      <td>0.241086</td>\n",
       "      <td>0.241136</td>\n",
       "      <td>0.409292</td>\n",
       "    </tr>\n",
       "    <tr>\n",
       "      <th>2013-11-30</th>\n",
       "      <td>0.096202</td>\n",
       "      <td>-1.384769</td>\n",
       "      <td>1.931434</td>\n",
       "      <td>-0.098136</td>\n",
       "    </tr>\n",
       "    <tr>\n",
       "      <th>2013-12-31</th>\n",
       "      <td>0.721423</td>\n",
       "      <td>0.633948</td>\n",
       "      <td>0.321793</td>\n",
       "      <td>-1.360542</td>\n",
       "    </tr>\n",
       "  </tbody>\n",
       "</table>\n",
       "</div>"
      ]
     },
     "execution_count": 8,
     "metadata": {},
     "output_type": "execute_result"
    }
   ],
   "source": [
    "dates = pd.date_range(start='20130101', end='20131231', freq='M') \n",
    "df = pd.DataFrame(np.random.randn(12, 4), index=dates, columns=list('ABCD'))\n",
    "df"
   ]
  },
  {
   "cell_type": "code",
   "execution_count": 9,
   "metadata": {},
   "outputs": [],
   "source": [
    "df = pd.DataFrame([[np.random.randint(1,1000) for j in range(4)] \\\n",
    "                        for i in range(12)], index=dates, columns=list('ABCD'))"
   ]
  },
  {
   "cell_type": "code",
   "execution_count": null,
   "metadata": {},
   "outputs": [],
   "source": [
    ""
   ]
  }
 ],
 "metadata": {
  "kernelspec": {
   "display_name": "Python 2",
   "language": "python",
   "name": "python2"
  },
  "language_info": {
   "codemirror_mode": {
    "name": "ipython",
    "version": 2.0
   },
   "file_extension": ".py",
   "mimetype": "text/x-python",
   "name": "python",
   "nbconvert_exporter": "python",
   "pygments_lexer": "ipython2",
   "version": "2.7.6"
  }
 },
 "nbformat": 4,
 "nbformat_minor": 0
}